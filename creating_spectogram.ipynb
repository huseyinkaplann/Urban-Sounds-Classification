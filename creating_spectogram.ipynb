{
 "cells": [
  {
   "cell_type": "code",
   "execution_count": 7,
   "metadata": {},
   "outputs": [],
   "source": [
    "import pandas as pd\n",
    "import numpy as np\n",
    "import librosa\n",
    "import librosa.display\n",
    "from PIL import Image\n",
    "import matplotlib.pyplot as plt\n",
    "import os"
   ]
  },
  {
   "cell_type": "code",
   "execution_count": 8,
   "metadata": {},
   "outputs": [],
   "source": [
    "def create_spectogram(y):\n",
    "    spectogram = librosa.feature.melspectogram(y=y)\n",
    "    spectogram_conv = librosa.amplitude_to_db(spectogram, ref=np.max)\n",
    "    return spectogram_conv\n",
    "\n",
    "def save_spectogram(spectogram, file_name, class_id):\n",
    "    if str(class_id) not in os.listdir(\"spectograms\"):\n",
    "        os.mkdir(f\"spectograms/{class_id}\")\n",
    "\n",
    "    save_file_name = f\"{file_name.split('.')[0]}.png\"\n",
    "\n",
    "    plt.figure()\n",
    "    librosa.display.specshow(spectogram)\n",
    "    plt.savefig(f\"spectograms/{class_id}/{save_file_name}\", bbox_inches=\"tight\", pad_inches=0)\n",
    "    plt.close()"
   ]
  },
  {
   "cell_type": "code",
   "execution_count": 9,
   "metadata": {},
   "outputs": [],
   "source": [
    "df = pd.read_csv(r\"C:\\Users\\CASPER\\Desktop\\AI P2\\UrbanSound8K\\metadata\\UrbanSound8K.csv\")"
   ]
  },
  {
   "cell_type": "code",
   "execution_count": 10,
   "metadata": {},
   "outputs": [],
   "source": [
    "path_to_folds = \"UrbanSound8K/audio\""
   ]
  },
  {
   "cell_type": "code",
   "execution_count": null,
   "metadata": {},
   "outputs": [],
   "source": [
    "if \"spectograms\" not in os.listdir():\n",
    "    os.mkdir(\"spectograms\")\n",
    "\n",
    "number_of_files = df.shape[0]\n",
    "number_of_processed = 0\n",
    "number_of_errors = 0\n",
    "\n",
    "for index, row in df.iterrows():\n",
    "    try:\n",
    "        file_name = row[\"slice_file_name\"]\n",
    "        class_id = row[\"classID\"]\n",
    "        fold = row[\"fold\"]\n",
    "\n",
    "        path_to_file = f\"{path_to_folds}/fold{fold}/{file_name}\"\n",
    "\n",
    "        data, sr = librosa.load(path_to_file)\n",
    "        spectogram = create_spectogram(data)\n",
    "        save_spectogram(spectogram, file_name, class_id)\n",
    "\n",
    "        del data\n",
    "        del sr\n",
    "        del spectogram\n",
    "    except:\n",
    "        number_of_errors += 1\n",
    "    finally:\n",
    "        number_of_processed += 1\n",
    "    \n",
    "    print(f\"\\r Number: {number_of_processed}/{number_of_files} | Errors: {number_of_errors} \", end=\"\")"
   ]
  }
 ],
 "metadata": {
  "kernelspec": {
   "display_name": "Python 3",
   "language": "python",
   "name": "python3"
  },
  "language_info": {
   "codemirror_mode": {
    "name": "ipython",
    "version": 3
   },
   "file_extension": ".py",
   "mimetype": "text/x-python",
   "name": "python",
   "nbconvert_exporter": "python",
   "pygments_lexer": "ipython3",
   "version": "3.12.3"
  }
 },
 "nbformat": 4,
 "nbformat_minor": 2
}
