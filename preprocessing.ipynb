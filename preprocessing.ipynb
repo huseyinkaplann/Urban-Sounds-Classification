{
 "cells": [
  {
   "cell_type": "code",
   "execution_count": 1,
   "metadata": {},
   "outputs": [],
   "source": [
    "import cv2 as cv\n",
    "import os"
   ]
  },
  {
   "cell_type": "code",
   "execution_count": 2,
   "metadata": {},
   "outputs": [],
   "source": [
    "images = []\n",
    "number_of_error = 0\n",
    "number_of_processed = 0\n",
    "\n",
    "errors_file = open(\"images_errors.txt\", \"w\")\n",
    "\n",
    "for class_id in os.listdir(\"spectograms\"):\n",
    "    path_to_class = f\"spectograms/{class_id}\"\n",
    "    for image in os.listdir(path_to_class):\n",
    "        try:\n",
    "            path_to_image = f\"{path_to_class}/{image}\"\n",
    "            \n",
    "            img = cv.imread(path_to_image, 0)\n",
    "            img = cv.resize(img, (128,128))\n",
    "            img = img/255\n",
    "            images.append([img, int(class_id)])\n",
    "        except Exception as e:\n",
    "            number_of_error += 1\n",
    "            errors_file.write(f\"{number_of_processed} --- {e}\")\n",
    "        finally:\n",
    "            number_of_processed += 1\n",
    "        \n",
    "        print(f\"\\r Processed: {number_of_processed} | Errors: {number_of_error}\", end=\"\") \n",
    "        \n",
    "errors_file.close()"
   ]
  },
  {
   "cell_type": "code",
   "execution_count": 3,
   "metadata": {},
   "outputs": [],
   "source": [
    "import random\n",
    "\n",
    "for i in range(10):\n",
    "    random.shuffle(images)"
   ]
  },
  {
   "cell_type": "code",
   "execution_count": 4,
   "metadata": {},
   "outputs": [],
   "source": [
    "x = []\n",
    "y = []\n",
    "\n",
    "for image, class_id in images:\n",
    "    x.append(image)\n",
    "    y.append(class_id)"
   ]
  },
  {
   "cell_type": "code",
   "execution_count": 5,
   "metadata": {},
   "outputs": [],
   "source": [
    "x_train = x[:6985]\n",
    "y_train = y[:6985]\n",
    "\n",
    "x_val = x[6985:7858]\n",
    "y_val = y[6985:7858]\n",
    "\n",
    "x_test = x[7858:]\n",
    "y_test = y[7858:]"
   ]
  },
  {
   "cell_type": "code",
   "execution_count": 6,
   "metadata": {},
   "outputs": [],
   "source": [
    "import numpy as np\n",
    "\n",
    "x_train = np.array(x_train)\n",
    "y_train = np.array(y_train)\n",
    "\n",
    "x_val = np.array(x_val)\n",
    "y_val = np.array(y_val)\n",
    "\n",
    "x_test = np.array(x_test)\n",
    "y_test = np.array(y_test)"
   ]
  },
  {
   "cell_type": "code",
   "execution_count": 7,
   "metadata": {},
   "outputs": [],
   "source": [
    "x_train = x_train.reshape(-1, 128, 128, 1)\n",
    "x_val = x_val.reshape(-1, 128, 128, 1)\n",
    "x_test = x_test.reshape(-1, 128, 128, 1)"
   ]
  },
  {
   "cell_type": "code",
   "execution_count": null,
   "metadata": {},
   "outputs": [],
   "source": [
    "import pickle\n",
    "\n",
    "if \"pickles\" not in os.listdir():\n",
    "    os.mkdir(\"pickles\")\n",
    "    \n",
    "    \n",
    "with open(\"pickles/x_train.pickle\", \"wb\") as f:\n",
    "    pickle.dump(x_train, f)\n",
    "with open(\"pickles/y_train.pickle\", \"wb\") as f:\n",
    "    pickle.dump(y_train, f)\n",
    "    \n",
    "with open(\"pickles/x_val.pickle\", \"wb\") as f:\n",
    "    pickle.dump(x_val, f)\n",
    "with open(\"pickles/y_val.pickle\", \"wb\") as f:\n",
    "    pickle.dump(y_val, f)\n",
    "    \n",
    "with open(\"pickles/x_test.pickle\", \"wb\") as f:\n",
    "    pickle.dump(x_test, f)\n",
    "with open(\"pickles/y_test.pickle\", \"wb\") as f:\n",
    "    pickle.dump(y_test, f)"
   ]
  }
 ],
 "metadata": {
  "kernelspec": {
   "display_name": "Python 3",
   "language": "python",
   "name": "python3"
  },
  "language_info": {
   "codemirror_mode": {
    "name": "ipython",
    "version": 3
   },
   "file_extension": ".py",
   "mimetype": "text/x-python",
   "name": "python",
   "nbconvert_exporter": "python",
   "pygments_lexer": "ipython3",
   "version": "3.12.3"
  }
 },
 "nbformat": 4,
 "nbformat_minor": 2
}
